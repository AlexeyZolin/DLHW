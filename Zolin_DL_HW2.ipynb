{
  "nbformat": 4,
  "nbformat_minor": 0,
  "metadata": {
    "colab": {
      "provenance": []
    },
    "kernelspec": {
      "name": "python3",
      "display_name": "Python 3"
    },
    "language_info": {
      "name": "python"
    }
  },
  "cells": [
    {
      "cell_type": "code",
      "execution_count": 50,
      "metadata": {
        "colab": {
          "base_uri": "https://localhost:8080/"
        },
        "id": "8xqR-lVxaWpS",
        "outputId": "b3bfa7d2-f4ce-45ac-c9e5-7ab6a488af49"
      },
      "outputs": [
        {
          "output_type": "stream",
          "name": "stderr",
          "text": [
            "/usr/local/lib/python3.10/dist-packages/torch/nn/modules/module.py:1518: UserWarning: Implicit dimension choice for softmax has been deprecated. Change the call to include dim=X as an argument.\n",
            "  return self._call_impl(*args, **kwargs)\n"
          ]
        },
        {
          "output_type": "stream",
          "name": "stdout",
          "text": [
            "tensor(0.0082, grad_fn=<DivBackward0>)\n",
            "tensor(0.0082, grad_fn=<DivBackward0>)\n",
            "tensor(0.0081, grad_fn=<DivBackward0>)\n",
            "tensor(0.0080, grad_fn=<DivBackward0>)\n",
            "tensor(0.0079, grad_fn=<DivBackward0>)\n",
            "tensor(0.0079, grad_fn=<DivBackward0>)\n",
            "tensor(0.0078, grad_fn=<DivBackward0>)\n",
            "tensor(0.0077, grad_fn=<DivBackward0>)\n",
            "tensor(0.0076, grad_fn=<DivBackward0>)\n",
            "tensor(0.0075, grad_fn=<DivBackward0>)\n",
            "tensor(0.0075, grad_fn=<DivBackward0>)\n",
            "tensor(0.0074, grad_fn=<DivBackward0>)\n",
            "tensor(0.0073, grad_fn=<DivBackward0>)\n",
            "tensor(0.0072, grad_fn=<DivBackward0>)\n",
            "tensor(0.0071, grad_fn=<DivBackward0>)\n",
            "tensor(0.0071, grad_fn=<DivBackward0>)\n",
            "tensor(0.0070, grad_fn=<DivBackward0>)\n",
            "tensor(0.0069, grad_fn=<DivBackward0>)\n",
            "tensor(0.0069, grad_fn=<DivBackward0>)\n",
            "tensor(0.0068, grad_fn=<DivBackward0>)\n"
          ]
        }
      ],
      "source": [
        "import torch\n",
        "import pandas\n",
        "from torch.utils.data import Dataset, DataLoader\n",
        "\n",
        "torch.manual_seed(2023)\n",
        "\n",
        "class TitanicDataset(Dataset):\n",
        "    def __init__(self):\n",
        "        super().__init__()\n",
        "        self.df = pandas.read_csv('https://raw.githubusercontent.com/datasciencedojo/datasets/master/titanic.csv')\n",
        "        self.df['Age'] = self.df['Age'].fillna(self.df['Age'].mean())\n",
        "        self.df = pandas.concat([self.df, pandas.get_dummies(self.df['Sex'], prefix='Sex')], axis=1)\n",
        "        self.df = pandas.concat([self.df, pandas.get_dummies(self.df['Pclass'], prefix='Pclass')], axis=1)\n",
        "\n",
        "    def __len__(self):\n",
        "        return self.df.shape[0]\n",
        "\n",
        "    def __getitem__(self, item):\n",
        "        row = self.df.iloc[item]\n",
        "        alive = torch.Tensor([1, 0])\n",
        "        dead = torch.Tensor([0, 1])\n",
        "        y = alive if row['Survived'] else dead\n",
        "        x = torch.Tensor([row['Age'], row['Fare'], row['SibSp'], row['Sex_female'], row['Sex_male'], row['Pclass_1'], row['Pclass_2'], row['Pclass_3']])\n",
        "        return x, y\n",
        "\n",
        "\n",
        "titanic_dataset = TitanicDataset()\n",
        "dataloader = DataLoader(dataset=titanic_dataset, batch_size=100, shuffle=True)\n",
        "\n",
        "class SurvivalPredictorPerceptron(torch.nn.Module):\n",
        "    def __init__(self, input_size: int, hidden_size: int, output_size: int):\n",
        "        super().__init__()\n",
        "        self.fully_connected_layer = torch.nn.Linear(input_size, hidden_size, bias=True)\n",
        "        self.out_layer = torch.nn.Linear(hidden_size, output_size, bias=True)\n",
        "        self.sigmoid = torch.nn.Sigmoid()\n",
        "        self.relu = torch.nn.ReLU()\n",
        "        self.softmax = torch.nn.Softmax()\n",
        "\n",
        "    def forward(self, x):\n",
        "        x = self.fully_connected_layer(x)\n",
        "        x = self.relu(x)\n",
        "        x = self.out_layer(x)\n",
        "        x = self.softmax(x)\n",
        "\n",
        "        return x\n",
        "\n",
        "model = SurvivalPredictorPerceptron(input_size=8, hidden_size=10, output_size=2)\n",
        "optimizer = torch.optim.SGD(model.parameters(), lr=1e-4)\n",
        "loss_fn = torch.nn.CrossEntropyLoss()\n",
        "\n",
        "num_epochs = 20\n",
        "\n",
        "for epoch in range(num_epochs):\n",
        "    error = 0\n",
        "    for x, y in dataloader:\n",
        "        optimizer.zero_grad()\n",
        "        prediction = model(x)\n",
        "        loss = loss_fn(prediction, y)\n",
        "        error += loss\n",
        "\n",
        "        loss.backward()\n",
        "        optimizer.step()\n",
        "\n",
        "    print(error/len(titanic_dataset))"
      ]
    }
  ]
}